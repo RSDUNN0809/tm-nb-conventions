{
 "cells": [
  {
   "cell_type": "markdown",
   "metadata": {},
   "source": [
    "## Naive Bayes on Political Text\n",
    "\n",
    "In this notebook we use Naive Bayes to explore and classify political data. See the `README.md` for full details."
   ]
  },
  {
   "cell_type": "code",
   "execution_count": 51,
   "metadata": {},
   "outputs": [],
   "source": [
    "import sqlite3\n",
    "import nltk\n",
    "import random\n",
    "import numpy as np\n",
    "from collections import Counter, defaultdict\n",
    "\n",
    "# Feel free to include your text patterns functions\n",
    "import nltk\n",
    "import pandas as pd\n",
    "import os\n",
    "import re\n",
    "\n",
    "from collections import Counter, defaultdict\n",
    "from nltk.corpus import stopwords\n",
    "from string import punctuation\n",
    "from wordcloud import WordCloud \n",
    "from sklearn.feature_extraction.text import TfidfTransformer, CountVectorizer"
   ]
  },
  {
   "cell_type": "code",
   "execution_count": 52,
   "metadata": {},
   "outputs": [],
   "source": [
    "#some punctuation variations\n",
    "punctuation = set(punctuation) # speeds up comparison\n",
    "tw_punct = punctuation - {\"#\"}\n",
    "\n",
    "#create the stopwords variable\n",
    "sw = stopwords.words(\"english\")\n",
    "\n",
    "#two useful regex\n",
    "whitespace_pattern = re.compile(r\"\\s+\")\n",
    "hashtag_pattern = re.compile(r\"^#[0-9a-zA-Z]+\")\n",
    "\n",
    "# It's handy to have a full set of emojis\n",
    "all_language_emojis = set()"
   ]
  },
  {
   "cell_type": "code",
   "execution_count": 167,
   "metadata": {},
   "outputs": [
    {
     "data": {
      "text/plain": [
       "<sqlite3.Cursor at 0x7fc448179f10>"
      ]
     },
     "execution_count": 167,
     "metadata": {},
     "output_type": "execute_result"
    }
   ],
   "source": [
    "#call the conventions.db\n",
    "convention_db = sqlite3.connect(\"2020_Conventions.db\")\n",
    "convention_cur = convention_db.cursor()\n",
    "\n",
    "convention_cur"
   ]
  },
  {
   "cell_type": "markdown",
   "metadata": {},
   "source": [
    "### Part 1: Exploratory Naive Bayes\n",
    "\n",
    "We'll first build a NB model on the convention data itself, as a way to understand what words distinguish between the two parties. This is analogous to what we did in the \"Comparing Groups\" class work. First, pull in the text \n",
    "for each party and prepare it for use in Naive Bayes.  "
   ]
  },
  {
   "cell_type": "code",
   "execution_count": 168,
   "metadata": {},
   "outputs": [],
   "source": [
    "#create a list to story the query results\n",
    "convention_data = []\n",
    "\n",
    "# fill this list up with items that are themselves lists. The \n",
    "# first element in the sublist should be the cleaned and tokenized\n",
    "# text in a single string. The second element should be the party. \n",
    "query_results = convention_cur.execute(\n",
    "                            '''\n",
    "                            select  c.[text], c.party\n",
    "                            from conventions as c\n",
    "                            ''')\n",
    "for row in query_results :\n",
    "    convention_data.append(row)\n",
    "#convention_data"
   ]
  },
  {
   "cell_type": "code",
   "execution_count": 169,
   "metadata": {},
   "outputs": [
    {
     "data": {
      "text/html": [
       "<div>\n",
       "<style scoped>\n",
       "    .dataframe tbody tr th:only-of-type {\n",
       "        vertical-align: middle;\n",
       "    }\n",
       "\n",
       "    .dataframe tbody tr th {\n",
       "        vertical-align: top;\n",
       "    }\n",
       "\n",
       "    .dataframe thead th {\n",
       "        text-align: right;\n",
       "    }\n",
       "</style>\n",
       "<table border=\"1\" class=\"dataframe\">\n",
       "  <thead>\n",
       "    <tr style=\"text-align: right;\">\n",
       "      <th></th>\n",
       "      <th>text</th>\n",
       "      <th>party</th>\n",
       "    </tr>\n",
       "  </thead>\n",
       "  <tbody>\n",
       "    <tr>\n",
       "      <th>0</th>\n",
       "      <td>Skip to content The Company Careers Press Free...</td>\n",
       "      <td>Democratic</td>\n",
       "    </tr>\n",
       "    <tr>\n",
       "      <th>1</th>\n",
       "      <td>I’m here by calling the full session of the 48...</td>\n",
       "      <td>Democratic</td>\n",
       "    </tr>\n",
       "    <tr>\n",
       "      <th>2</th>\n",
       "      <td>Every four years, we come together to reaffirm...</td>\n",
       "      <td>Democratic</td>\n",
       "    </tr>\n",
       "    <tr>\n",
       "      <th>3</th>\n",
       "      <td>We fight for a more perfect union because we a...</td>\n",
       "      <td>Democratic</td>\n",
       "    </tr>\n",
       "    <tr>\n",
       "      <th>4</th>\n",
       "      <td>We must come together to defeat Donald Trump, ...</td>\n",
       "      <td>Democratic</td>\n",
       "    </tr>\n",
       "  </tbody>\n",
       "</table>\n",
       "</div>"
      ],
      "text/plain": [
       "                                                text       party\n",
       "0  Skip to content The Company Careers Press Free...  Democratic\n",
       "1  I’m here by calling the full session of the 48...  Democratic\n",
       "2  Every four years, we come together to reaffirm...  Democratic\n",
       "3  We fight for a more perfect union because we a...  Democratic\n",
       "4  We must come together to defeat Donald Trump, ...  Democratic"
      ]
     },
     "execution_count": 169,
     "metadata": {},
     "output_type": "execute_result"
    }
   ],
   "source": [
    "#create the convetion_df with text and party columns\n",
    "convention_df = pd.DataFrame(convention_data, columns = [\"text\",\"party\"])\n",
    "convention_df.head()"
   ]
  },
  {
   "cell_type": "markdown",
   "metadata": {},
   "source": [
    "Let's look at some random entries and see if they look right. "
   ]
  },
  {
   "cell_type": "code",
   "execution_count": 170,
   "metadata": {},
   "outputs": [
    {
     "data": {
      "text/plain": [
       "[('Thanks for that, Bernie. I want to thank you all for joining us for this segment. I mean this sincerely, it was an honor to run against you, and then there’s even a greater honor to stand with you and support of Joe Biden and Kamala Harris.',\n",
       "  'Democratic'),\n",
       " ('(singing.', 'Democratic'),\n",
       " ('Thank you, Mr. President. The honor is all mine.', 'Republican'),\n",
       " ('After my daughter’s murder, the media didn’t seem interested in the facts. So, I found them myself. I learned that gun control laws didn’t fail my daughter, people did. The gunman had threatened to kill his classmates before. He had threatened to rape them. He had threatened to shoot up the school. Every red flag you could imagine, but the school didn’t just miss these red flags, they knowingly ignored them. Far left Democrats in our school district made this shooting possible because they implemented something they called restorative justice. This policy, which really just blames teachers for student’s failures puts kids and teachers at risk and make shootings more likely, but it was built as a pioneering approach to discipline and safety. I was just fine with the old approach to discipline and safety. It was called discipline and safety, but the Obama-Biden administration took Parkland’s bad policies and forced them into schools across America.',\n",
       "  'Republican'),\n",
       " ('Here in South Bend, we once feared that our best days were behind us, but then we reimagined our economy with new jobs and even new industries. The Hoosier State is ready to lead America’s recovery with our diverse communities, our talented workers, and our best in the world agriculture. Joe Biden’s plan gives us a blueprint to revitalize industrial cities and rural areas alike. Indiana casts 2 votes for my friend Bernie Sanders, and 86 votes for the next President, Joe Biden.',\n",
       "  'Democratic')]"
      ]
     },
     "execution_count": 170,
     "metadata": {},
     "output_type": "execute_result"
    }
   ],
   "source": [
    "#view a random choice of the convetion data\n",
    "random.choices(convention_data,k=5)"
   ]
  },
  {
   "cell_type": "markdown",
   "metadata": {},
   "source": [
    "If that looks good, we now need to make our function to turn these into features. In my solution, I wanted to keep the number of features reasonable, so I only used words that occur at least `word_cutoff` times. Here's the code to test that if you want it. "
   ]
  },
  {
   "cell_type": "code",
   "execution_count": 171,
   "metadata": {},
   "outputs": [
    {
     "name": "stdout",
     "output_type": "stream",
     "text": [
      "With a word cutoff of 5, we have 2462 as features in the model.\n"
     ]
    }
   ],
   "source": [
    "#define the word cutoff limit\n",
    "word_cutoff = 5\n",
    "\n",
    "#initially split all tokens for analysis of feature_words\n",
    "tokens = [w for t, p in convention_data for w in t.split()]\n",
    "\n",
    "#create the tokens by splitting on whitespace\n",
    "def tokenize(text) : \n",
    "    return re.split(whitespace_pattern, text)\n",
    "\n",
    "#remove stop words\n",
    "def remove_stop(tokens) :\n",
    "    stop_words = set(stopwords.words(\"english\"))\n",
    "    return [word for word in tokens if word.lower() not in stop_words]\n",
    "\n",
    "tokens = remove_stop(tokens)\n",
    "\n",
    "#apply the .lower() function to all words\n",
    "def lower_words(tokens) :\n",
    "    return [word.lower() for word in tokens]\n",
    "\n",
    "tokens = lower_words(tokens)\n",
    "\n",
    "#define the function to remove punctuation from each word where it exists\n",
    "def remove_punctuation_from_words(tokens):\n",
    "    punctuations = tw_punct #from the \n",
    "    result = []\n",
    "    for word in tokens:\n",
    "        word_without_punctuation = \"\" #empty string\n",
    "        for char in word:\n",
    "            if char not in punctuations:\n",
    "                word_without_punctuation += char\n",
    "        result.append(word_without_punctuation)\n",
    "    return result #return the result of the word_without_punctuation string\n",
    "\n",
    "#remove the punctuation from the dataframe\n",
    "#this expects text to be single string - \n",
    "def remove_punctuation(text, punct_set=tw_punct) : \n",
    "    return(\"\".join([ch for ch in text if ch not in punct_set]))\n",
    " #.join.text -- test this\n",
    "    \n",
    "#defind the function for preparing the data for the pipeline\n",
    "def prepare(text, pipeline) : \n",
    "    tokens = str(text)\n",
    "    \n",
    "    for transform in pipeline : \n",
    "        tokens = transform(tokens)\n",
    "        \n",
    "    return(tokens)\n",
    "\n",
    "tokens = remove_punctuation_from_words(tokens)\n",
    "\n",
    "word_dist = nltk.FreqDist(tokens)\n",
    "\n",
    "feature_words = set()\n",
    "\n",
    "for word, count in word_dist.items() :\n",
    "    if count > word_cutoff :\n",
    "        feature_words.add(word)\n",
    "        \n",
    "print(f\"With a word cutoff of {word_cutoff}, we have {len(feature_words)} as features in the model.\")"
   ]
  },
  {
   "cell_type": "code",
   "execution_count": 172,
   "metadata": {},
   "outputs": [],
   "source": [
    "#view the feature words (if needed)\n",
    "#print(feature_words)"
   ]
  },
  {
   "cell_type": "code",
   "execution_count": 173,
   "metadata": {},
   "outputs": [],
   "source": [
    "#apply the functions to the individual rows within the conventions dataframe\n",
    "#create pipeline - try it once a time\n",
    "my_pipeline = [str.lower, remove_punctuation, tokenize, remove_stop]\n",
    "\n",
    "#assign token variable by applying my_pipeline\n",
    "convention_df[\"tokens\"] = convention_df[\"text\"].apply(prepare,pipeline=my_pipeline)"
   ]
  },
  {
   "cell_type": "code",
   "execution_count": 174,
   "metadata": {},
   "outputs": [],
   "source": [
    "#iterate through the convetion_df.token column and assign to list\n",
    "for tokenlist in convention_df.tokens.tolist():\n",
    "    break"
   ]
  },
  {
   "cell_type": "code",
   "execution_count": 175,
   "metadata": {},
   "outputs": [
    {
     "data": {
      "text/plain": [
       "{'skip': True,\n",
       " 'content': True,\n",
       " 'company': True,\n",
       " 'careers': True,\n",
       " 'press': True,\n",
       " 'freelancers': True,\n",
       " 'blog': True,\n",
       " '×': True,\n",
       " 'services': True,\n",
       " 'transcription': True,\n",
       " 'captions': True,\n",
       " 'foreign': True,\n",
       " 'subtitles': True,\n",
       " 'translation': True,\n",
       " 'contact': True,\n",
       " 'login': True,\n",
       " '«': True,\n",
       " 'return': True,\n",
       " 'transcript': True,\n",
       " 'library': True,\n",
       " 'home': True,\n",
       " 'categories': True,\n",
       " 'transcripts': True,\n",
       " '2020': True,\n",
       " 'election': True,\n",
       " 'classic': True,\n",
       " 'speech': True,\n",
       " 'congressional': True,\n",
       " 'testimony': True,\n",
       " 'hearing': True,\n",
       " 'debate': True,\n",
       " 'donald': True,\n",
       " 'trump': True,\n",
       " 'entertainment': True,\n",
       " 'financial': True,\n",
       " 'interview': True,\n",
       " 'political': True,\n",
       " 'conference': True,\n",
       " 'sports': True,\n",
       " 'technology': True,\n",
       " 'aug': True,\n",
       " 'democratic': True,\n",
       " 'national': True,\n",
       " 'convention': True,\n",
       " 'dnc': True,\n",
       " 'night': True,\n",
       " '4': True,\n",
       " 'rev': True,\n",
       " '›': True,\n",
       " 'august': True,\n",
       " '20': True,\n",
       " 'read': True,\n",
       " 'full': True,\n",
       " 'event': True,\n",
       " 'transcribe': True,\n",
       " 'try': True,\n",
       " 'free': True,\n",
       " 'save': True,\n",
       " 'time': True,\n",
       " 'transcribing': True,\n",
       " 'captioning': True,\n",
       " 'subtitling': True}"
      ]
     },
     "execution_count": 175,
     "metadata": {},
     "output_type": "execute_result"
    }
   ],
   "source": [
    "def conv_features(text,fw) :\n",
    "    \"\"\"Given some text, this returns a dictionary holding the\n",
    "       feature words.\n",
    "       \n",
    "       Args: \n",
    "            * text: a piece of text in a continuous string. Assumes\n",
    "            text has been cleaned and case folded.\n",
    "            * fw: the *feature words* that we're considering. A word \n",
    "            in `text` must be in fw in order to be returned. This \n",
    "            prevents us from considering very rarely occurring words.\n",
    "        \n",
    "       Returns: \n",
    "            A dictionary with the words in `text` that appear in `fw`. \n",
    "            Words are only counted once. \n",
    "            If `text` were \"quick quick brown fox\" and `fw` = {'quick','fox','jumps'},\n",
    "            then this would return a dictionary of \n",
    "            {'quick' : True,\n",
    "             'fox' :    True}\n",
    "        \n",
    "    \"\"\"\n",
    "    result = {word: True for word in text if word in fw}\n",
    "              #word in text.split() for word in fw}\n",
    "    return result\n",
    "\n",
    "conv_features(tokenlist, feature_words)"
   ]
  },
  {
   "cell_type": "code",
   "execution_count": 176,
   "metadata": {},
   "outputs": [
    {
     "ename": "AssertionError",
     "evalue": "",
     "output_type": "error",
     "traceback": [
      "\u001b[0;31m---------------------------------------------------------------------------\u001b[0m",
      "\u001b[0;31mAssertionError\u001b[0m                            Traceback (most recent call last)",
      "\u001b[0;32m<ipython-input-176-be3e6a1914ee>\u001b[0m in \u001b[0;36m<module>\u001b[0;34m\u001b[0m\n\u001b[1;32m      1\u001b[0m \u001b[0;32massert\u001b[0m\u001b[0;34m(\u001b[0m\u001b[0mlen\u001b[0m\u001b[0;34m(\u001b[0m\u001b[0mfeature_words\u001b[0m\u001b[0;34m)\u001b[0m\u001b[0;34m>\u001b[0m\u001b[0;36m0\u001b[0m\u001b[0;34m)\u001b[0m\u001b[0;34m\u001b[0m\u001b[0;34m\u001b[0m\u001b[0m\n\u001b[0;32m----> 2\u001b[0;31m assert(conv_features(\"donald is the president\",feature_words)==\n\u001b[0m\u001b[1;32m      3\u001b[0m        {'donald':True,'president':True})\n\u001b[1;32m      4\u001b[0m assert(conv_features(\"people are american in america\",feature_words)==\n\u001b[1;32m      5\u001b[0m                      {'america':True,'american':True,\"people\":True})\n",
      "\u001b[0;31mAssertionError\u001b[0m: "
     ]
    }
   ],
   "source": [
    "assert(len(feature_words)>0)\n",
    "assert(conv_features(\"donald is the president\",feature_words)==\n",
    "       {'donald':True,'president':True})\n",
    "assert(conv_features(\"people are american in america\",feature_words)==\n",
    "                     {'america':True,'american':True,\"people\":True})"
   ]
  },
  {
   "cell_type": "code",
   "execution_count": 177,
   "metadata": {},
   "outputs": [],
   "source": [
    "#create the features column \n",
    "convention_df['features'] = convention_df[\"tokens\"].apply(conv_features,fw=feature_words)"
   ]
  },
  {
   "cell_type": "code",
   "execution_count": 178,
   "metadata": {},
   "outputs": [
    {
     "data": {
      "text/html": [
       "<div>\n",
       "<style scoped>\n",
       "    .dataframe tbody tr th:only-of-type {\n",
       "        vertical-align: middle;\n",
       "    }\n",
       "\n",
       "    .dataframe tbody tr th {\n",
       "        vertical-align: top;\n",
       "    }\n",
       "\n",
       "    .dataframe thead th {\n",
       "        text-align: right;\n",
       "    }\n",
       "</style>\n",
       "<table border=\"1\" class=\"dataframe\">\n",
       "  <thead>\n",
       "    <tr style=\"text-align: right;\">\n",
       "      <th></th>\n",
       "      <th>text</th>\n",
       "      <th>party</th>\n",
       "      <th>tokens</th>\n",
       "      <th>features</th>\n",
       "    </tr>\n",
       "  </thead>\n",
       "  <tbody>\n",
       "    <tr>\n",
       "      <th>0</th>\n",
       "      <td>Skip to content The Company Careers Press Free...</td>\n",
       "      <td>Democratic</td>\n",
       "      <td>[skip, content, company, careers, press, freel...</td>\n",
       "      <td>{'skip': True, 'content': True, 'company': Tru...</td>\n",
       "    </tr>\n",
       "    <tr>\n",
       "      <th>1</th>\n",
       "      <td>I’m here by calling the full session of the 48...</td>\n",
       "      <td>Democratic</td>\n",
       "      <td>[i’m, calling, full, session, 48th, quadrennia...</td>\n",
       "      <td>{'i’m': True, 'calling': True, 'full': True, '...</td>\n",
       "    </tr>\n",
       "    <tr>\n",
       "      <th>2</th>\n",
       "      <td>Every four years, we come together to reaffirm...</td>\n",
       "      <td>Democratic</td>\n",
       "      <td>[every, four, years, come, together, reaffirm,...</td>\n",
       "      <td>{'every': True, 'four': True, 'years': True, '...</td>\n",
       "    </tr>\n",
       "    <tr>\n",
       "      <th>3</th>\n",
       "      <td>We fight for a more perfect union because we a...</td>\n",
       "      <td>Democratic</td>\n",
       "      <td>[fight, perfect, union, fighting, soul, countr...</td>\n",
       "      <td>{'fight': True, 'perfect': True, 'union': True...</td>\n",
       "    </tr>\n",
       "    <tr>\n",
       "      <th>4</th>\n",
       "      <td>We must come together to defeat Donald Trump, ...</td>\n",
       "      <td>Democratic</td>\n",
       "      <td>[must, come, together, defeat, donald, trump, ...</td>\n",
       "      <td>{'must': True, 'come': True, 'together': True,...</td>\n",
       "    </tr>\n",
       "  </tbody>\n",
       "</table>\n",
       "</div>"
      ],
      "text/plain": [
       "                                                text       party  \\\n",
       "0  Skip to content The Company Careers Press Free...  Democratic   \n",
       "1  I’m here by calling the full session of the 48...  Democratic   \n",
       "2  Every four years, we come together to reaffirm...  Democratic   \n",
       "3  We fight for a more perfect union because we a...  Democratic   \n",
       "4  We must come together to defeat Donald Trump, ...  Democratic   \n",
       "\n",
       "                                              tokens  \\\n",
       "0  [skip, content, company, careers, press, freel...   \n",
       "1  [i’m, calling, full, session, 48th, quadrennia...   \n",
       "2  [every, four, years, come, together, reaffirm,...   \n",
       "3  [fight, perfect, union, fighting, soul, countr...   \n",
       "4  [must, come, together, defeat, donald, trump, ...   \n",
       "\n",
       "                                            features  \n",
       "0  {'skip': True, 'content': True, 'company': Tru...  \n",
       "1  {'i’m': True, 'calling': True, 'full': True, '...  \n",
       "2  {'every': True, 'four': True, 'years': True, '...  \n",
       "3  {'fight': True, 'perfect': True, 'union': True...  \n",
       "4  {'must': True, 'come': True, 'together': True,...  "
      ]
     },
     "execution_count": 178,
     "metadata": {},
     "output_type": "execute_result"
    }
   ],
   "source": [
    "convention_df.head()"
   ]
  },
  {
   "cell_type": "code",
   "execution_count": 179,
   "metadata": {},
   "outputs": [],
   "source": [
    "#create the features sets list\n",
    "feature_sets = []\n",
    "\n",
    "#iterate through the convention_df and collect the features and party of each \n",
    "for i in range(convention_df.shape[0]):\n",
    "    feature_sets.append((convention_df.iloc[i,3], convention_df.iloc[i,1]))"
   ]
  },
  {
   "cell_type": "code",
   "execution_count": 180,
   "metadata": {},
   "outputs": [
    {
     "data": {
      "text/plain": [
       "[({'skip': True,\n",
       "   'content': True,\n",
       "   'company': True,\n",
       "   'careers': True,\n",
       "   'press': True,\n",
       "   'freelancers': True,\n",
       "   'blog': True,\n",
       "   '×': True,\n",
       "   'services': True,\n",
       "   'transcription': True,\n",
       "   'captions': True,\n",
       "   'foreign': True,\n",
       "   'subtitles': True,\n",
       "   'translation': True,\n",
       "   'contact': True,\n",
       "   'login': True,\n",
       "   '«': True,\n",
       "   'return': True,\n",
       "   'transcript': True,\n",
       "   'library': True,\n",
       "   'home': True,\n",
       "   'categories': True,\n",
       "   'transcripts': True,\n",
       "   '2020': True,\n",
       "   'election': True,\n",
       "   'classic': True,\n",
       "   'speech': True,\n",
       "   'congressional': True,\n",
       "   'testimony': True,\n",
       "   'hearing': True,\n",
       "   'debate': True,\n",
       "   'donald': True,\n",
       "   'trump': True,\n",
       "   'entertainment': True,\n",
       "   'financial': True,\n",
       "   'interview': True,\n",
       "   'political': True,\n",
       "   'conference': True,\n",
       "   'sports': True,\n",
       "   'technology': True,\n",
       "   'aug': True,\n",
       "   'democratic': True,\n",
       "   'national': True,\n",
       "   'convention': True,\n",
       "   'dnc': True,\n",
       "   'night': True,\n",
       "   '4': True,\n",
       "   'rev': True,\n",
       "   '›': True,\n",
       "   'august': True,\n",
       "   '20': True,\n",
       "   'read': True,\n",
       "   'full': True,\n",
       "   'event': True,\n",
       "   'transcribe': True,\n",
       "   'try': True,\n",
       "   'free': True,\n",
       "   'save': True,\n",
       "   'time': True,\n",
       "   'transcribing': True,\n",
       "   'captioning': True,\n",
       "   'subtitling': True},\n",
       "  'Democratic'),\n",
       " ({'i’m': True,\n",
       "   'calling': True,\n",
       "   'full': True,\n",
       "   'national': True,\n",
       "   'convention': True,\n",
       "   'democratic': True,\n",
       "   'party': True,\n",
       "   'order': True,\n",
       "   'welcome': True,\n",
       "   'final': True,\n",
       "   'historic': True,\n",
       "   'we’ve': True,\n",
       "   'called': True},\n",
       "  'Democratic'),\n",
       " ({'every': True,\n",
       "   'four': True,\n",
       "   'years': True,\n",
       "   'come': True,\n",
       "   'together': True,\n",
       "   'democracy': True,\n",
       "   'year': True,\n",
       "   'we’ve': True,\n",
       "   'save': True},\n",
       "  'Democratic'),\n",
       " ({'fight': True,\n",
       "   'perfect': True,\n",
       "   'union': True,\n",
       "   'fighting': True,\n",
       "   'soul': True,\n",
       "   'country': True,\n",
       "   'lives': True,\n",
       "   'right': True,\n",
       "   'real': True},\n",
       "  'Democratic'),\n",
       " ({'must': True,\n",
       "   'come': True,\n",
       "   'together': True,\n",
       "   'defeat': True,\n",
       "   'donald': True,\n",
       "   'trump': True,\n",
       "   'elect': True,\n",
       "   'joe': True,\n",
       "   'biden': True,\n",
       "   'kamala': True,\n",
       "   'harris': True,\n",
       "   'next': True,\n",
       "   'president': True,\n",
       "   'vice': True},\n",
       "  'Democratic')]"
      ]
     },
     "execution_count": 180,
     "metadata": {},
     "output_type": "execute_result"
    }
   ],
   "source": [
    "#view the first 5 elements in the feature_sets list\n",
    "feature_sets[:5]"
   ]
  },
  {
   "cell_type": "markdown",
   "metadata": {},
   "source": [
    "Now we'll build our feature set. Out of curiosity I did a train/test split to see how accurate the classifier was, but we don't strictly need to since this analysis is exploratory. "
   ]
  },
  {
   "cell_type": "code",
   "execution_count": 183,
   "metadata": {},
   "outputs": [],
   "source": [
    "#shuffle the feature_sets and establish test size for test/training\n",
    "random.seed(20220507)\n",
    "random.shuffle(feature_sets)\n",
    "\n",
    "test_size = 500"
   ]
  },
  {
   "cell_type": "code",
   "execution_count": 184,
   "metadata": {},
   "outputs": [
    {
     "name": "stdout",
     "output_type": "stream",
     "text": [
      "0.51\n"
     ]
    }
   ],
   "source": [
    "#create the test and train set\n",
    "test_set, train_set = feature_sets[:test_size], feature_sets[test_size:]\n",
    "\n",
    "#create the classifier for the Naive Bayes Classifier from the train set\n",
    "classifier = nltk.NaiveBayesClassifier.train(train_set)\n",
    "\n",
    "#print the accuracy of the classifier from the test set\n",
    "print(nltk.classify.accuracy(classifier, test_set))"
   ]
  },
  {
   "cell_type": "code",
   "execution_count": 185,
   "metadata": {},
   "outputs": [
    {
     "data": {
      "text/plain": [
       "'Republican'"
      ]
     },
     "execution_count": 185,
     "metadata": {},
     "output_type": "execute_result"
    }
   ],
   "source": [
    "#test a random word to see the output that the classifier.classify function\n",
    "classifier.classify({'military': True})"
   ]
  },
  {
   "cell_type": "code",
   "execution_count": 186,
   "metadata": {},
   "outputs": [
    {
     "name": "stdout",
     "output_type": "stream",
     "text": [
      "Most Informative Features\n",
      "                 radical = True           Republ : Democr =     37.0 : 1.0\n",
      "                   media = True           Republ : Democr =     33.9 : 1.0\n",
      "                   votes = True           Democr : Republ =     24.5 : 1.0\n",
      "               greatness = True           Republ : Democr =     20.3 : 1.0\n",
      "             enforcement = True           Republ : Democr =     19.7 : 1.0\n",
      "                   china = True           Republ : Democr =     17.6 : 1.0\n",
      "               amendment = True           Republ : Democr =     17.2 : 1.0\n",
      "                 destroy = True           Republ : Democr =     17.2 : 1.0\n",
      "                   taxes = True           Republ : Democr =     17.2 : 1.0\n",
      "                supports = True           Republ : Democr =     14.1 : 1.0\n",
      "                    flag = True           Republ : Democr =     12.8 : 1.0\n",
      "                    mike = True           Republ : Democr =     12.8 : 1.0\n",
      "                 abraham = True           Republ : Democr =     10.9 : 1.0\n",
      "                    cuts = True           Republ : Democr =     10.9 : 1.0\n",
      "                 defense = True           Republ : Democr =     10.9 : 1.0\n",
      "                  defund = True           Republ : Democr =     10.9 : 1.0\n",
      "               destroyed = True           Republ : Democr =     10.9 : 1.0\n",
      "                 pledged = True           Republ : Democr =     10.9 : 1.0\n",
      "                  record = True           Republ : Democr =     10.9 : 1.0\n",
      "                 violent = True           Republ : Democr =     10.9 : 1.0\n",
      "                  signed = True           Republ : Democr =     10.3 : 1.0\n",
      "                 freedom = True           Republ : Democr =     10.0 : 1.0\n",
      "                 chinese = True           Republ : Democr =      9.9 : 1.0\n",
      "                increase = True           Republ : Democr =      9.9 : 1.0\n",
      "                    iran = True           Republ : Democr =      9.9 : 1.0\n"
     ]
    }
   ],
   "source": [
    "#show the top 25 most invormative features\n",
    "classifier.show_most_informative_features(25)"
   ]
  },
  {
   "attachments": {},
   "cell_type": "markdown",
   "metadata": {},
   "source": [
    "Write a little prose here about what you see in the classifier. Anything odd or interesting?\n",
    "\n",
    "### My Observations\n",
    "The first observation that immediately stands out is that 24 of the 25 most informative features are associated to the Republican Party. The second observation is that because I am relatively aware of the political camps and their messages, the associated words that have are more associated to each party make senses to me. \n",
    "\n",
    "To unpack both statements (and to try and keep political bias to a minimum), Republicans tends to grab onto a handful of key ideas and play those over and over to their audience. Especially during election season, the message is typically the same, “Radical liberals are trying to destroy your freedoms, and Iran and China are major threats” - this general message was essentially on repeat. Further, the primary message of the Democrats of the last election cycle was voting and simply defeating Donald Trump. Actual policy, from my perspective, was not the focus of conversation. Hence, the words that are associated more/less to each party generally make intuitive sense to me. \n"
   ]
  },
  {
   "cell_type": "markdown",
   "metadata": {},
   "source": [
    "## Part 2: Classifying Congressional Tweets\n",
    "\n",
    "In this part we apply the classifer we just built to a set of tweets by people running for congress\n",
    "in 2018. These tweets are stored in the database `congressional_data.db`. That DB is funky, so I'll\n",
    "give you the query I used to pull out the tweets. Note that this DB has some big tables and \n",
    "is unindexed, so the query takes a minute or two to run on my machine."
   ]
  },
  {
   "cell_type": "code",
   "execution_count": 188,
   "metadata": {},
   "outputs": [],
   "source": [
    "#call the congressional_data.db\n",
    "cong_db = sqlite3.connect(\"congressional_data.db\")\n",
    "cong_cur = cong_db.cursor()"
   ]
  },
  {
   "cell_type": "code",
   "execution_count": 189,
   "metadata": {},
   "outputs": [],
   "source": [
    "results = cong_cur.execute(\n",
    "        '''\n",
    "           SELECT DISTINCT \n",
    "                  cd.candidate, \n",
    "                  cd.party,\n",
    "                  tw.tweet_text\n",
    "           FROM candidate_data cd \n",
    "           INNER JOIN tweets tw ON cd.twitter_handle = tw.handle \n",
    "               AND cd.candidate == tw.candidate \n",
    "               AND cd.district == tw.district\n",
    "           WHERE cd.party in ('Republican','Democratic') \n",
    "               AND tw.tweet_text NOT LIKE '%RT%'\n",
    "        ''')\n",
    "\n",
    "results = list(results) # Just to store it, since the query is time consuming\n",
    "results_df = pd.DataFrame(results, columns =[['name','party','tweet']])"
   ]
  },
  {
   "cell_type": "code",
   "execution_count": 190,
   "metadata": {},
   "outputs": [],
   "source": [
    "twitter_data = []\n",
    "\n",
    "query_results2 = cong_cur.execute(\n",
    "                            '''\n",
    "           SELECT DISTINCT \n",
    "               --   cd.candidate, \n",
    "               --   cd.party,\n",
    "                  tw.tweet_text as 'text',\n",
    "                  cd.party as 'party'\n",
    "           FROM candidate_data cd \n",
    "           INNER JOIN tweets tw ON cd.twitter_handle = tw.handle \n",
    "               AND cd.candidate == tw.candidate \n",
    "               AND cd.district == tw.district\n",
    "           WHERE cd.party in ('Republican','Democratic') \n",
    "               AND tw.tweet_text NOT LIKE '%RT%'\n",
    "                            ''')\n",
    "\n",
    "for row in query_results2 :\n",
    "    twitter_data.append(row)\n",
    "#twitter_data"
   ]
  },
  {
   "cell_type": "code",
   "execution_count": 191,
   "metadata": {},
   "outputs": [
    {
     "data": {
      "text/plain": [
       "(664088, 2)"
      ]
     },
     "execution_count": 191,
     "metadata": {},
     "output_type": "execute_result"
    }
   ],
   "source": [
    "#take the twitter_data list and store text and party to a dataframe\n",
    "twitter_df = pd.DataFrame(twitter_data, columns = [\"text\",\"party\"])\n",
    "twitter_df.shape"
   ]
  },
  {
   "cell_type": "code",
   "execution_count": 192,
   "metadata": {},
   "outputs": [],
   "source": [
    "#apply the functions to the individual rows within the dataframe\n",
    "my_pipeline = [str.lower, remove_punctuation, tokenize, remove_stop]\n",
    "\n",
    "#create the tokens column from the text column\n",
    "twitter_df[\"tokens\"] = twitter_df[\"text\"].apply(prepare,pipeline=my_pipeline)\n",
    "\n",
    "#identify the columns to keep\n",
    "keep_only = ['tokens', 'party']\n",
    "twitter_df = twitter_df[keep_only]"
   ]
  },
  {
   "cell_type": "markdown",
   "metadata": {},
   "source": [
    "There are a lot of tweets here. Let's take a random sample and see how our classifer does. I'm guessing it won't be too great given the performance on the convention speeches..."
   ]
  },
  {
   "cell_type": "code",
   "execution_count": 196,
   "metadata": {},
   "outputs": [
    {
     "data": {
      "text/plain": [
       "[[b'\"NASA on the Square\" event this Sat. 11AM \\xe2\\x80\\x93 4PM. Stop by &amp; hear about the incredible work done in #AL05! @DowntownHSV http://t.co/R9zY8WMEpA',\n",
       "  'Republican'],\n",
       " [b'\"Brooks: Senate Democrats Allowing President to Give Americans\\xe2\\x80\\x99 Jobs to Illegals\" #securetheborder https://t.co/mZtEaX8xS6',\n",
       "  'Republican'],\n",
       " [b'\"Brooks Joins Alabama Delegation in Voting Against Flawed Funding Bill\" http://t.co/3CwjIWYsNq',\n",
       "  'Republican'],\n",
       " [b'\"Brooks: Senate Democrats Allowing President to Give Americans\\xe2\\x80\\x99 Jobs to Illegals\" #securetheborder https://t.co/mZtEaX8xS6',\n",
       "  'Republican'],\n",
       " [b'\"The trouble with Socialism is that eventually you run out of other people\\'s money.\" - Margaret Thatcher https://t.co/X97g7wzQwJ',\n",
       "  'Republican'],\n",
       " [b'\"Brooks Joins Alabama Delegation in Voting Against Flawed Funding Bill\" http://t.co/3CwjIWYsNq',\n",
       "  'Republican'],\n",
       " [b'\"Brooks Joins Alabama Delegation in Voting Against Flawed Funding Bill\" http://t.co/3CwjIWYsNq',\n",
       "  'Republican'],\n",
       " [b'\"The trouble with socialism is eventually you run out of other people\\'s money\" \\xe2\\x80\\x93 Thatcher. She\\'ll be sorely missed. http://t.co/Z8gBnDQUh8',\n",
       "  'Republican'],\n",
       " [b'\"NASA on the Square\" event this Sat. 11AM \\xe2\\x80\\x93 4PM. Stop by &amp; hear about the incredible work done in #AL05! @DowntownHSV http://t.co/R9zY8WMEpA',\n",
       "  'Republican'],\n",
       " [b'\"The trouble with socialism is eventually you run out of other people\\'s money\" \\xe2\\x80\\x93 Thatcher. She\\'ll be sorely missed. http://t.co/Z8gBnDQUh8',\n",
       "  'Republican']]"
      ]
     },
     "execution_count": 196,
     "metadata": {},
     "output_type": "execute_result"
    }
   ],
   "source": [
    "random.seed(20201014)\n",
    "\n",
    "#create a sample dataset of the tweet_data\n",
    "tweet_data_sample = random.choices(tweet_data,k=10)\n",
    "tweet_data_sample"
   ]
  },
  {
   "cell_type": "code",
   "execution_count": 198,
   "metadata": {},
   "outputs": [],
   "source": [
    "#twitter_df.head()"
   ]
  },
  {
   "cell_type": "code",
   "execution_count": 199,
   "metadata": {},
   "outputs": [
    {
     "data": {
      "text/html": [
       "<div>\n",
       "<style scoped>\n",
       "    .dataframe tbody tr th:only-of-type {\n",
       "        vertical-align: middle;\n",
       "    }\n",
       "\n",
       "    .dataframe tbody tr th {\n",
       "        vertical-align: top;\n",
       "    }\n",
       "\n",
       "    .dataframe thead th {\n",
       "        text-align: right;\n",
       "    }\n",
       "</style>\n",
       "<table border=\"1\" class=\"dataframe\">\n",
       "  <thead>\n",
       "    <tr style=\"text-align: right;\">\n",
       "      <th></th>\n",
       "      <th>tokens</th>\n",
       "      <th>party</th>\n",
       "      <th>features</th>\n",
       "    </tr>\n",
       "  </thead>\n",
       "  <tbody>\n",
       "    <tr>\n",
       "      <th>0</th>\n",
       "      <td>[bbrooks, joins, alabama, delegation, voting, ...</td>\n",
       "      <td>Republican</td>\n",
       "      <td>{'alabama': True, 'voting': True, 'funding': T...</td>\n",
       "    </tr>\n",
       "    <tr>\n",
       "      <th>1</th>\n",
       "      <td>[bbrooks, senate, democrats, allowing, preside...</td>\n",
       "      <td>Republican</td>\n",
       "      <td>{'senate': True, 'democrats': True, 'allowing'...</td>\n",
       "    </tr>\n",
       "    <tr>\n",
       "      <th>2</th>\n",
       "      <td>[bnasa, square, event, sat, 11am, xe2x80x93, 4...</td>\n",
       "      <td>Republican</td>\n",
       "      <td>{'square': True, 'event': True, 'sat': True, '...</td>\n",
       "    </tr>\n",
       "    <tr>\n",
       "      <th>3</th>\n",
       "      <td>[bthe, trouble, socialism, eventually, run, pe...</td>\n",
       "      <td>Republican</td>\n",
       "      <td>{'trouble': True, 'socialism': True, 'run': Tr...</td>\n",
       "    </tr>\n",
       "    <tr>\n",
       "      <th>4</th>\n",
       "      <td>[bthe, trouble, socialism, eventually, run, pe...</td>\n",
       "      <td>Republican</td>\n",
       "      <td>{'trouble': True, 'socialism': True, 'run': Tr...</td>\n",
       "    </tr>\n",
       "  </tbody>\n",
       "</table>\n",
       "</div>"
      ],
      "text/plain": [
       "                                              tokens       party  \\\n",
       "0  [bbrooks, joins, alabama, delegation, voting, ...  Republican   \n",
       "1  [bbrooks, senate, democrats, allowing, preside...  Republican   \n",
       "2  [bnasa, square, event, sat, 11am, xe2x80x93, 4...  Republican   \n",
       "3  [bthe, trouble, socialism, eventually, run, pe...  Republican   \n",
       "4  [bthe, trouble, socialism, eventually, run, pe...  Republican   \n",
       "\n",
       "                                            features  \n",
       "0  {'alabama': True, 'voting': True, 'funding': T...  \n",
       "1  {'senate': True, 'democrats': True, 'allowing'...  \n",
       "2  {'square': True, 'event': True, 'sat': True, '...  \n",
       "3  {'trouble': True, 'socialism': True, 'run': Tr...  \n",
       "4  {'trouble': True, 'socialism': True, 'run': Tr...  "
      ]
     },
     "execution_count": 199,
     "metadata": {},
     "output_type": "execute_result"
    }
   ],
   "source": [
    "twitter_df['features'] = twitter_df[\"tokens\"].apply(conv_features,fw=feature_words)\n",
    "twitter_df.head()"
   ]
  },
  {
   "cell_type": "code",
   "execution_count": 200,
   "metadata": {},
   "outputs": [],
   "source": [
    "twitter_sets = []\n",
    "\n",
    "for i in range(twitter_df.shape[0]):\n",
    "    twitter_sets.append((twitter_df.iloc[i,2], twitter_df.iloc[i,1]))"
   ]
  },
  {
   "cell_type": "code",
   "execution_count": 201,
   "metadata": {},
   "outputs": [
    {
     "data": {
      "text/plain": [
       "[({'alabama': True, 'voting': True, 'funding': True, 'bill': True},\n",
       "  'Republican'),\n",
       " ({'senate': True,\n",
       "   'democrats': True,\n",
       "   'allowing': True,\n",
       "   'president': True,\n",
       "   'give': True,\n",
       "   'jobs': True},\n",
       "  'Republican')]"
      ]
     },
     "execution_count": 201,
     "metadata": {},
     "output_type": "execute_result"
    }
   ],
   "source": [
    "#view the first two elemnts of the twitter_sets list\n",
    "twitter_sets[:2]"
   ]
  },
  {
   "cell_type": "code",
   "execution_count": 202,
   "metadata": {},
   "outputs": [],
   "source": [
    "#iterate through the convetion_df.token column and assign to list\n",
    "for twitter_list in twitter_df.features.tolist():\n",
    "    break"
   ]
  },
  {
   "cell_type": "code",
   "execution_count": 203,
   "metadata": {},
   "outputs": [],
   "source": [
    "random.seed(20201014)\n",
    "\n",
    "tweet_data_sample = random.choices(twitter_sets,k=10)"
   ]
  },
  {
   "cell_type": "code",
   "execution_count": 204,
   "metadata": {},
   "outputs": [
    {
     "name": "stdout",
     "output_type": "stream",
     "text": [
      "Here's our (cleaned) tweet: {'awesome': True, 'join': True, 'coast': True, 'residents': True, 'students': True}\n",
      "Actual party is Democratic and our classifer says Democratic.\n",
      "\n",
      "Here's our (cleaned) tweet: {}\n",
      "Actual party is Democratic and our classifer says Democratic.\n",
      "\n",
      "Here's our (cleaned) tweet: {'yet': True, 'speaker': True, 'still': True, 'willing': True, 'donald': True, 'trump': True, 'candidate': True, 'racist': True, 'policy': True}\n",
      "Actual party is Democratic and our classifer says Republican.\n",
      "\n",
      "Here's our (cleaned) tweet: {'celebrate': True, 'anniversary': True, 'signing': True, 'nations': True, 'founding': True}\n",
      "Actual party is Republican and our classifer says Republican.\n",
      "\n",
      "Here's our (cleaned) tweet: {'one': True, 'year': True, 'economy': True, 'people': True, 'want': True, 'work': True}\n",
      "Actual party is Republican and our classifer says Republican.\n",
      "\n",
      "Here's our (cleaned) tweet: {'heard': True, 'town': True, 'committee': True, 'today': True, 'must': True}\n",
      "Actual party is Democratic and our classifer says Republican.\n",
      "\n",
      "Here's our (cleaned) tweet: {'found': True, 'tide': True}\n",
      "Actual party is Democratic and our classifer says Republican.\n",
      "\n",
      "Here's our (cleaned) tweet: {'teacher': True, 'mother': True, '5': True, 'trying': True, 'washington': True, 'problems': True, 'getting': True, 'things': True, 'done': True, 'help': True, 'us': True, 'take': True, 'back': True, 'house': True, 'people': True, '2018': True}\n",
      "Actual party is Democratic and our classifer says Republican.\n",
      "\n",
      "Here's our (cleaned) tweet: {'meeting': True, 'today': True, 'chief': True, 'general': True}\n",
      "Actual party is Democratic and our classifer says Republican.\n",
      "\n",
      "Here's our (cleaned) tweet: {'death': True, 'continues': True, 'keep': True, 'case': True, 'fairness': True}\n",
      "Actual party is Democratic and our classifer says Republican.\n",
      "\n"
     ]
    }
   ],
   "source": [
    "#for tweet, party in tweet_data_sample :\n",
    "for tweet, party in tweet_data_sample:\n",
    "    \n",
    "    estimated_party = classifier.classify(tweet)\n",
    "    # Fill in the right-hand side above with code that estimates the actual party\n",
    "    print(f\"Here's our (cleaned) tweet: {tweet}\")\n",
    "    print(f\"Actual party is {party} and our classifer says {estimated_party}.\")\n",
    "    print(\"\")\n",
    "    "
   ]
  },
  {
   "cell_type": "markdown",
   "metadata": {},
   "source": [
    "Now that we've looked at it some, let's score a bunch and see how we're doing."
   ]
  },
  {
   "cell_type": "code",
   "execution_count": 205,
   "metadata": {},
   "outputs": [],
   "source": [
    "# dictionary of counts by actual party and estimated party. \n",
    "# first key is actual, second is estimated\n",
    "parties = ['Republican','Democratic']\n",
    "results = defaultdict(lambda: defaultdict(int))\n",
    "\n",
    "for p in parties :\n",
    "    for p1 in parties :\n",
    "        results[p][p1] = 0\n",
    "\n",
    "\n",
    "num_to_score = 10000\n",
    "random.shuffle(twitter_sets)\n",
    "#tweet_data is the right varialbe name\n",
    "for idx, tp in enumerate(twitter_sets) :\n",
    "    tweet, party = tp    \n",
    "    # Now do the same thing as above, but we store the results rather\n",
    "    # than printing them. \n",
    "   \n",
    "    # get the estimated party\n",
    "    estimated_party = classifier.classify(tweet)\n",
    "    \n",
    "    results[party][estimated_party] += 1\n",
    "    \n",
    "    if idx > num_to_score : \n",
    "        break"
   ]
  },
  {
   "cell_type": "code",
   "execution_count": 206,
   "metadata": {},
   "outputs": [
    {
     "data": {
      "text/plain": [
       "defaultdict(<function __main__.<lambda>()>,\n",
       "            {'Republican': defaultdict(int,\n",
       "                         {'Republican': 3520, 'Democratic': 787}),\n",
       "             'Democratic': defaultdict(int,\n",
       "                         {'Republican': 4596, 'Democratic': 1099})})"
      ]
     },
     "execution_count": 206,
     "metadata": {},
     "output_type": "execute_result"
    }
   ],
   "source": [
    "results"
   ]
  },
  {
   "cell_type": "markdown",
   "metadata": {},
   "source": [
    "### Reflections\n",
    "\n",
    "The classifier does a decent job at correctly predicting Republican text, however, incorrectly predicts Democratic text as Republican too frequently. My initial thoughts are that this is due to the most important feature words (24 of 25) being \"Republican\" words, and there being no way of distinguising use that via our model. Additionally, Democrats could very well (and do) say many of those words, however, the Naive model doesn't take that into consideration, and instead, if the word is seen, the chance that it is Repbulcian is incrased. \n",
    "\n",
    "Therefore, I belive a \"top 25 list\" that is more balanced from a Republican and Democrat standpoint would likely return better results, and could help to improve classification results. Lastly, as some of the individual word test below display, words that are not within our feature words (such as random words like soda, table and others) are being classified as Democrat versus Republican - which is an interesting, but possibly impactful feature on the data."
   ]
  },
  {
   "cell_type": "code",
   "execution_count": 207,
   "metadata": {},
   "outputs": [
    {
     "data": {
      "text/plain": [
       "'Republican'"
      ]
     },
     "execution_count": 207,
     "metadata": {},
     "output_type": "execute_result"
    }
   ],
   "source": [
    "##### Example random text and the part it gets classified to:\n",
    "classifier.classify({'america': True})"
   ]
  },
  {
   "cell_type": "code",
   "execution_count": 208,
   "metadata": {},
   "outputs": [
    {
     "data": {
      "text/plain": [
       "'Democratic'"
      ]
     },
     "execution_count": 208,
     "metadata": {},
     "output_type": "execute_result"
    }
   ],
   "source": [
    "classifier.classify({'nation': True})"
   ]
  },
  {
   "cell_type": "code",
   "execution_count": 209,
   "metadata": {},
   "outputs": [
    {
     "data": {
      "text/plain": [
       "'Republican'"
      ]
     },
     "execution_count": 209,
     "metadata": {},
     "output_type": "execute_result"
    }
   ],
   "source": [
    "classifier.classify({'country': True})"
   ]
  },
  {
   "cell_type": "code",
   "execution_count": 210,
   "metadata": {},
   "outputs": [
    {
     "data": {
      "text/plain": [
       "'Democratic'"
      ]
     },
     "execution_count": 210,
     "metadata": {},
     "output_type": "execute_result"
    }
   ],
   "source": [
    "classifier.classify({'immigration': True})"
   ]
  },
  {
   "cell_type": "code",
   "execution_count": 211,
   "metadata": {},
   "outputs": [
    {
     "data": {
      "text/plain": [
       "'Republican'"
      ]
     },
     "execution_count": 211,
     "metadata": {},
     "output_type": "execute_result"
    }
   ],
   "source": [
    "classifier.classify({'illegal': True})"
   ]
  },
  {
   "cell_type": "code",
   "execution_count": 214,
   "metadata": {},
   "outputs": [
    {
     "data": {
      "text/plain": [
       "'Democratic'"
      ]
     },
     "execution_count": 214,
     "metadata": {},
     "output_type": "execute_result"
    }
   ],
   "source": [
    "classifier.classify({'table': True})"
   ]
  },
  {
   "cell_type": "code",
   "execution_count": 215,
   "metadata": {},
   "outputs": [
    {
     "data": {
      "text/plain": [
       "'Democratic'"
      ]
     },
     "execution_count": 215,
     "metadata": {},
     "output_type": "execute_result"
    }
   ],
   "source": [
    "classifier.classify({'nonsense': True})"
   ]
  },
  {
   "cell_type": "code",
   "execution_count": 216,
   "metadata": {},
   "outputs": [
    {
     "data": {
      "text/plain": [
       "'Democratic'"
      ]
     },
     "execution_count": 216,
     "metadata": {},
     "output_type": "execute_result"
    }
   ],
   "source": [
    "classifier.classify({'soda': True})"
   ]
  },
  {
   "cell_type": "code",
   "execution_count": null,
   "metadata": {},
   "outputs": [],
   "source": []
  }
 ],
 "metadata": {
  "kernelspec": {
   "display_name": "Python 3",
   "language": "python",
   "name": "python3"
  },
  "language_info": {
   "codemirror_mode": {
    "name": "ipython",
    "version": 3
   },
   "file_extension": ".py",
   "mimetype": "text/x-python",
   "name": "python",
   "nbconvert_exporter": "python",
   "pygments_lexer": "ipython3",
   "version": "3.8.8"
  }
 },
 "nbformat": 4,
 "nbformat_minor": 4
}
